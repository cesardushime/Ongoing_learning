{
 "cells": [
  {
   "cell_type": "markdown",
   "id": "eb27be02",
   "metadata": {
    "papermill": {
     "duration": 0.006177,
     "end_time": "2024-09-20T13:39:19.719150",
     "exception": false,
     "start_time": "2024-09-20T13:39:19.712973",
     "status": "completed"
    },
    "tags": []
   },
   "source": [
    "**This notebook is an exercise in the [Python](https://www.kaggle.com/learn/python) course.  You can reference the tutorial at [this link](https://www.kaggle.com/colinmorris/strings-and-dictionaries).**\n",
    "\n",
    "---\n"
   ]
  },
  {
   "cell_type": "markdown",
   "id": "96dd4cc8",
   "metadata": {
    "papermill": {
     "duration": 0.00503,
     "end_time": "2024-09-20T13:39:19.729757",
     "exception": false,
     "start_time": "2024-09-20T13:39:19.724727",
     "status": "completed"
    },
    "tags": []
   },
   "source": [
    "You are almost done with the course. Nice job!\n",
    "\n",
    "We have a couple more interesting problems for you before you go. \n",
    "\n",
    "As always, run the setup code below before working on the questions."
   ]
  },
  {
   "cell_type": "code",
   "execution_count": 1,
   "id": "06ec707e",
   "metadata": {
    "execution": {
     "iopub.execute_input": "2024-09-20T13:39:19.742035Z",
     "iopub.status.busy": "2024-09-20T13:39:19.741557Z",
     "iopub.status.idle": "2024-09-20T13:39:20.215328Z",
     "shell.execute_reply": "2024-09-20T13:39:20.212608Z"
    },
    "papermill": {
     "duration": 0.484395,
     "end_time": "2024-09-20T13:39:20.219396",
     "exception": false,
     "start_time": "2024-09-20T13:39:19.735001",
     "status": "completed"
    },
    "tags": []
   },
   "outputs": [
    {
     "name": "stdout",
     "output_type": "stream",
     "text": [
      "Setup complete.\n"
     ]
    }
   ],
   "source": [
    "from learntools.core import binder; binder.bind(globals())\n",
    "from learntools.python.ex6 import *\n",
    "print('Setup complete.')"
   ]
  },
  {
   "cell_type": "markdown",
   "id": "61c0c106",
   "metadata": {
    "papermill": {
     "duration": 0.005998,
     "end_time": "2024-09-20T13:39:20.231918",
     "exception": false,
     "start_time": "2024-09-20T13:39:20.225920",
     "status": "completed"
    },
    "tags": []
   },
   "source": [
    "Let's start with a string lightning round to warm up. What are the lengths of the strings below?\n",
    "\n",
    "For each of the five strings below, predict what `len()` would return when passed that string. Use the variable `length` to record your answer, then run the cell to check whether you were right.  \n",
    "\n",
    "# 0a."
   ]
  },
  {
   "cell_type": "code",
   "execution_count": 2,
   "id": "9acd5373",
   "metadata": {
    "execution": {
     "iopub.execute_input": "2024-09-20T13:39:20.245145Z",
     "iopub.status.busy": "2024-09-20T13:39:20.244364Z",
     "iopub.status.idle": "2024-09-20T13:39:20.256185Z",
     "shell.execute_reply": "2024-09-20T13:39:20.255047Z"
    },
    "papermill": {
     "duration": 0.021206,
     "end_time": "2024-09-20T13:39:20.258634",
     "exception": false,
     "start_time": "2024-09-20T13:39:20.237428",
     "status": "completed"
    },
    "tags": []
   },
   "outputs": [
    {
     "data": {
      "application/javascript": [
       "parent.postMessage({\"jupyterEvent\": \"custom.exercise_interaction\", \"data\": {\"outcomeType\": 1, \"valueTowardsCompletion\": 0.3333333333333333, \"interactionType\": 1, \"questionType\": 1, \"questionId\": \"0.1_ZA\", \"learnToolsVersion\": \"0.3.4\", \"failureMessage\": \"\", \"exceptionClass\": \"\", \"trace\": \"\"}}, \"*\")"
      ],
      "text/plain": [
       "<IPython.core.display.Javascript object>"
      ]
     },
     "metadata": {},
     "output_type": "display_data"
    },
    {
     "data": {
      "text/markdown": [
       "<span style=\"color:#33cc33\">Correct:</span> \n",
       "\n",
       "The empty string has length zero. Note that the empty string is also the only string that Python considers as False when converting to boolean."
      ],
      "text/plain": [
       "Correct: \n",
       "\n",
       "The empty string has length zero. Note that the empty string is also the only string that Python considers as False when converting to boolean."
      ]
     },
     "metadata": {},
     "output_type": "display_data"
    }
   ],
   "source": [
    "a = \"\"\n",
    "length = len(a)\n",
    "q0.a.check()"
   ]
  },
  {
   "cell_type": "markdown",
   "id": "c12cf591",
   "metadata": {
    "papermill": {
     "duration": 0.005585,
     "end_time": "2024-09-20T13:39:20.270037",
     "exception": false,
     "start_time": "2024-09-20T13:39:20.264452",
     "status": "completed"
    },
    "tags": []
   },
   "source": [
    "# 0b."
   ]
  },
  {
   "cell_type": "code",
   "execution_count": 3,
   "id": "a644b4d4",
   "metadata": {
    "execution": {
     "iopub.execute_input": "2024-09-20T13:39:20.283488Z",
     "iopub.status.busy": "2024-09-20T13:39:20.283074Z",
     "iopub.status.idle": "2024-09-20T13:39:20.293056Z",
     "shell.execute_reply": "2024-09-20T13:39:20.291698Z"
    },
    "papermill": {
     "duration": 0.019626,
     "end_time": "2024-09-20T13:39:20.295606",
     "exception": false,
     "start_time": "2024-09-20T13:39:20.275980",
     "status": "completed"
    },
    "tags": []
   },
   "outputs": [
    {
     "data": {
      "application/javascript": [
       "parent.postMessage({\"jupyterEvent\": \"custom.exercise_interaction\", \"data\": {\"outcomeType\": 1, \"valueTowardsCompletion\": 0.3333333333333333, \"interactionType\": 1, \"questionType\": 1, \"questionId\": \"0.2_ZB\", \"learnToolsVersion\": \"0.3.4\", \"failureMessage\": \"\", \"exceptionClass\": \"\", \"trace\": \"\"}}, \"*\")"
      ],
      "text/plain": [
       "<IPython.core.display.Javascript object>"
      ]
     },
     "metadata": {},
     "output_type": "display_data"
    },
    {
     "data": {
      "text/markdown": [
       "<span style=\"color:#33cc33\">Correct:</span> \n",
       "\n",
       "Keep in mind Python includes spaces (and punctuation) when counting string length."
      ],
      "text/plain": [
       "Correct: \n",
       "\n",
       "Keep in mind Python includes spaces (and punctuation) when counting string length."
      ]
     },
     "metadata": {},
     "output_type": "display_data"
    }
   ],
   "source": [
    "b = \"it's ok\"\n",
    "length = len(b)\n",
    "q0.b.check()"
   ]
  },
  {
   "cell_type": "markdown",
   "id": "b312c273",
   "metadata": {
    "papermill": {
     "duration": 0.005864,
     "end_time": "2024-09-20T13:39:20.307520",
     "exception": false,
     "start_time": "2024-09-20T13:39:20.301656",
     "status": "completed"
    },
    "tags": []
   },
   "source": [
    "# 0c."
   ]
  },
  {
   "cell_type": "code",
   "execution_count": 4,
   "id": "0ad54cb9",
   "metadata": {
    "execution": {
     "iopub.execute_input": "2024-09-20T13:39:20.321748Z",
     "iopub.status.busy": "2024-09-20T13:39:20.320719Z",
     "iopub.status.idle": "2024-09-20T13:39:20.332630Z",
     "shell.execute_reply": "2024-09-20T13:39:20.331318Z"
    },
    "papermill": {
     "duration": 0.021697,
     "end_time": "2024-09-20T13:39:20.335166",
     "exception": false,
     "start_time": "2024-09-20T13:39:20.313469",
     "status": "completed"
    },
    "tags": []
   },
   "outputs": [
    {
     "data": {
      "application/javascript": [
       "parent.postMessage({\"jupyterEvent\": \"custom.exercise_interaction\", \"data\": {\"outcomeType\": 1, \"valueTowardsCompletion\": 0.3333333333333333, \"interactionType\": 1, \"questionType\": 1, \"questionId\": \"0.3_ZC\", \"learnToolsVersion\": \"0.3.4\", \"failureMessage\": \"\", \"exceptionClass\": \"\", \"trace\": \"\"}}, \"*\")"
      ],
      "text/plain": [
       "<IPython.core.display.Javascript object>"
      ]
     },
     "metadata": {},
     "output_type": "display_data"
    },
    {
     "data": {
      "text/markdown": [
       "<span style=\"color:#33cc33\">Correct:</span> \n",
       "\n",
       "Even though we use different syntax to create it, the string `c` is identical to `b`. In particular, note that the backslash is not part of the string, so it doesn't contribute to its length."
      ],
      "text/plain": [
       "Correct: \n",
       "\n",
       "Even though we use different syntax to create it, the string `c` is identical to `b`. In particular, note that the backslash is not part of the string, so it doesn't contribute to its length."
      ]
     },
     "metadata": {},
     "output_type": "display_data"
    }
   ],
   "source": [
    "c = 'it\\'s ok'\n",
    "length = len(c)\n",
    "q0.c.check()"
   ]
  },
  {
   "cell_type": "markdown",
   "id": "40d4705c",
   "metadata": {
    "papermill": {
     "duration": 0.005954,
     "end_time": "2024-09-20T13:39:20.347528",
     "exception": false,
     "start_time": "2024-09-20T13:39:20.341574",
     "status": "completed"
    },
    "tags": []
   },
   "source": [
    "# 0d."
   ]
  },
  {
   "cell_type": "code",
   "execution_count": 5,
   "id": "795d241f",
   "metadata": {
    "execution": {
     "iopub.execute_input": "2024-09-20T13:39:20.361777Z",
     "iopub.status.busy": "2024-09-20T13:39:20.361383Z",
     "iopub.status.idle": "2024-09-20T13:39:20.371171Z",
     "shell.execute_reply": "2024-09-20T13:39:20.369992Z"
    },
    "papermill": {
     "duration": 0.019689,
     "end_time": "2024-09-20T13:39:20.373442",
     "exception": false,
     "start_time": "2024-09-20T13:39:20.353753",
     "status": "completed"
    },
    "tags": []
   },
   "outputs": [
    {
     "data": {
      "application/javascript": [
       "parent.postMessage({\"jupyterEvent\": \"custom.exercise_interaction\", \"data\": {\"outcomeType\": 1, \"valueTowardsCompletion\": 0.3333333333333333, \"interactionType\": 1, \"questionType\": 1, \"questionId\": \"0.4_ZD\", \"learnToolsVersion\": \"0.3.4\", \"failureMessage\": \"\", \"exceptionClass\": \"\", \"trace\": \"\"}}, \"*\")"
      ],
      "text/plain": [
       "<IPython.core.display.Javascript object>"
      ]
     },
     "metadata": {},
     "output_type": "display_data"
    },
    {
     "data": {
      "text/markdown": [
       "<span style=\"color:#33cc33\">Correct:</span> \n",
       "\n",
       "The fact that this string was created using triple-quote syntax doesn't make any difference in terms of its content or length. This string is exactly the same as `'hey'`."
      ],
      "text/plain": [
       "Correct: \n",
       "\n",
       "The fact that this string was created using triple-quote syntax doesn't make any difference in terms of its content or length. This string is exactly the same as `'hey'`."
      ]
     },
     "metadata": {},
     "output_type": "display_data"
    }
   ],
   "source": [
    "d = \"\"\"hey\"\"\"\n",
    "length = len(d)\n",
    "q0.d.check()"
   ]
  },
  {
   "cell_type": "markdown",
   "id": "681b1c34",
   "metadata": {
    "papermill": {
     "duration": 0.006112,
     "end_time": "2024-09-20T13:39:20.385931",
     "exception": false,
     "start_time": "2024-09-20T13:39:20.379819",
     "status": "completed"
    },
    "tags": []
   },
   "source": [
    "# 0e."
   ]
  },
  {
   "cell_type": "code",
   "execution_count": 6,
   "id": "dc4a88d7",
   "metadata": {
    "execution": {
     "iopub.execute_input": "2024-09-20T13:39:20.400815Z",
     "iopub.status.busy": "2024-09-20T13:39:20.400412Z",
     "iopub.status.idle": "2024-09-20T13:39:20.410117Z",
     "shell.execute_reply": "2024-09-20T13:39:20.408927Z"
    },
    "papermill": {
     "duration": 0.019811,
     "end_time": "2024-09-20T13:39:20.412386",
     "exception": false,
     "start_time": "2024-09-20T13:39:20.392575",
     "status": "completed"
    },
    "tags": []
   },
   "outputs": [
    {
     "data": {
      "application/javascript": [
       "parent.postMessage({\"jupyterEvent\": \"custom.exercise_interaction\", \"data\": {\"outcomeType\": 1, \"valueTowardsCompletion\": 0.3333333333333333, \"interactionType\": 1, \"questionType\": 1, \"questionId\": \"0.5_ZE\", \"learnToolsVersion\": \"0.3.4\", \"failureMessage\": \"\", \"exceptionClass\": \"\", \"trace\": \"\"}}, \"*\")"
      ],
      "text/plain": [
       "<IPython.core.display.Javascript object>"
      ]
     },
     "metadata": {},
     "output_type": "display_data"
    },
    {
     "data": {
      "text/markdown": [
       "<span style=\"color:#33cc33\">Correct:</span> \n",
       "\n",
       "The newline character is just a single character! (Even though we represent it to Python using a combination of two characters.)"
      ],
      "text/plain": [
       "Correct: \n",
       "\n",
       "The newline character is just a single character! (Even though we represent it to Python using a combination of two characters.)"
      ]
     },
     "metadata": {},
     "output_type": "display_data"
    }
   ],
   "source": [
    "e = '\\n'\n",
    "length = len(e)\n",
    "q0.e.check()"
   ]
  },
  {
   "cell_type": "markdown",
   "id": "3df7bd81",
   "metadata": {
    "papermill": {
     "duration": 0.006375,
     "end_time": "2024-09-20T13:39:20.425480",
     "exception": false,
     "start_time": "2024-09-20T13:39:20.419105",
     "status": "completed"
    },
    "tags": []
   },
   "source": [
    "# 1.\n",
    "\n",
    "There is a saying that \"Data scientists spend 80% of their time cleaning data, and 20% of their time complaining about cleaning data.\" Let's see if you can write a function to help clean US zip code data. Given a string, it should return whether or not that string represents a valid zip code. For our purposes, a valid zip code is any string consisting of exactly 5 digits.\n",
    "\n",
    "HINT: `str` has a method that will be useful here. Use `help(str)` to review a list of string methods."
   ]
  },
  {
   "cell_type": "code",
   "execution_count": 7,
   "id": "b7ac6365",
   "metadata": {
    "execution": {
     "iopub.execute_input": "2024-09-20T13:39:20.440625Z",
     "iopub.status.busy": "2024-09-20T13:39:20.440258Z",
     "iopub.status.idle": "2024-09-20T13:39:20.450598Z",
     "shell.execute_reply": "2024-09-20T13:39:20.449245Z"
    },
    "papermill": {
     "duration": 0.021036,
     "end_time": "2024-09-20T13:39:20.453174",
     "exception": false,
     "start_time": "2024-09-20T13:39:20.432138",
     "status": "completed"
    },
    "tags": []
   },
   "outputs": [
    {
     "data": {
      "application/javascript": [
       "parent.postMessage({\"jupyterEvent\": \"custom.exercise_interaction\", \"data\": {\"outcomeType\": 1, \"valueTowardsCompletion\": 0.3333333333333333, \"interactionType\": 1, \"questionType\": 2, \"questionId\": \"1_ZipValidator\", \"learnToolsVersion\": \"0.3.4\", \"failureMessage\": \"\", \"exceptionClass\": \"\", \"trace\": \"\"}}, \"*\")"
      ],
      "text/plain": [
       "<IPython.core.display.Javascript object>"
      ]
     },
     "metadata": {},
     "output_type": "display_data"
    },
    {
     "data": {
      "text/markdown": [
       "<span style=\"color:#33cc33\">Correct</span>"
      ],
      "text/plain": [
       "Correct"
      ]
     },
     "metadata": {},
     "output_type": "display_data"
    }
   ],
   "source": [
    "def is_valid_zip(zip_code):\n",
    "    \"\"\"Returns whether the input string is a valid (5 digit) zip code\n",
    "    \"\"\"\n",
    "    return len(zip_code) == 5 and zip_code.isdigit()\n",
    "\n",
    "# Check your answer\n",
    "q1.check()"
   ]
  },
  {
   "cell_type": "code",
   "execution_count": 8,
   "id": "93d23e27",
   "metadata": {
    "execution": {
     "iopub.execute_input": "2024-09-20T13:39:20.470208Z",
     "iopub.status.busy": "2024-09-20T13:39:20.469766Z",
     "iopub.status.idle": "2024-09-20T13:39:20.474893Z",
     "shell.execute_reply": "2024-09-20T13:39:20.473576Z"
    },
    "papermill": {
     "duration": 0.016551,
     "end_time": "2024-09-20T13:39:20.477274",
     "exception": false,
     "start_time": "2024-09-20T13:39:20.460723",
     "status": "completed"
    },
    "tags": []
   },
   "outputs": [],
   "source": [
    "#q1.hint()\n",
    "#q1.solution()"
   ]
  },
  {
   "cell_type": "markdown",
   "id": "3c7e8eb2",
   "metadata": {
    "papermill": {
     "duration": 0.006819,
     "end_time": "2024-09-20T13:39:20.491143",
     "exception": false,
     "start_time": "2024-09-20T13:39:20.484324",
     "status": "completed"
    },
    "tags": []
   },
   "source": [
    "# 2.\n",
    "\n",
    "A researcher has gathered thousands of news articles. But she wants to focus her attention on articles including a specific word. Complete the function below to help her filter her list of articles.\n",
    "\n",
    "Your function should meet the following criteria:\n",
    "\n",
    "- Do not include documents where the keyword string shows up only as a part of a larger word. For example, if she were looking for the keyword “closed”, you would not include the string “enclosed.” \n",
    "- She does not want you to distinguish upper case from lower case letters. So the phrase “Closed the case.” would be included when the keyword is “closed”\n",
    "- Do not let periods or commas affect what is matched. “It is closed.” would be included when the keyword is “closed”. But you can assume there are no other types of punctuation."
   ]
  },
  {
   "cell_type": "code",
   "execution_count": 9,
   "id": "5c93fe05",
   "metadata": {
    "execution": {
     "iopub.execute_input": "2024-09-20T13:39:20.507256Z",
     "iopub.status.busy": "2024-09-20T13:39:20.506360Z",
     "iopub.status.idle": "2024-09-20T13:39:20.518041Z",
     "shell.execute_reply": "2024-09-20T13:39:20.516899Z"
    },
    "papermill": {
     "duration": 0.022342,
     "end_time": "2024-09-20T13:39:20.520464",
     "exception": false,
     "start_time": "2024-09-20T13:39:20.498122",
     "status": "completed"
    },
    "tags": []
   },
   "outputs": [
    {
     "data": {
      "application/javascript": [
       "parent.postMessage({\"jupyterEvent\": \"custom.exercise_interaction\", \"data\": {\"outcomeType\": 1, \"valueTowardsCompletion\": 0.3333333333333333, \"interactionType\": 1, \"questionType\": 2, \"questionId\": \"2_WordSearch\", \"learnToolsVersion\": \"0.3.4\", \"failureMessage\": \"\", \"exceptionClass\": \"\", \"trace\": \"\"}}, \"*\")"
      ],
      "text/plain": [
       "<IPython.core.display.Javascript object>"
      ]
     },
     "metadata": {},
     "output_type": "display_data"
    },
    {
     "data": {
      "text/markdown": [
       "<span style=\"color:#33cc33\">Correct</span>"
      ],
      "text/plain": [
       "Correct"
      ]
     },
     "metadata": {},
     "output_type": "display_data"
    }
   ],
   "source": [
    "def word_search(doc_list, keyword):\n",
    "    \"\"\"\n",
    "    Takes a list of documents (each document is a string) and a keyword. \n",
    "    Returns list of the index values into the original list for all documents \n",
    "    containing the keyword.\n",
    "\n",
    "    Example:\n",
    "    doc_list = [\"The Learn Python Challenge Casino.\", \"They bought a car\", \"Casinoville\"]\n",
    "    >>> word_search(doc_list, 'casino')\n",
    "    >>> [0]\n",
    "    \"\"\"\n",
    "    indices = []\n",
    "    for i, doc in enumerate(doc_list):\n",
    "        words = doc.split()\n",
    "        \n",
    "        #transform the string for easying the operation\n",
    "        trans_words = [word.rstrip('.,').lower() for word in words]\n",
    "        if keyword.lower() in trans_words:\n",
    "            indices.append(i)\n",
    "    return indices\n",
    "        \n",
    "\n",
    "# Check your answer\n",
    "q2.check()"
   ]
  },
  {
   "cell_type": "code",
   "execution_count": 10,
   "id": "4ce130f5",
   "metadata": {
    "execution": {
     "iopub.execute_input": "2024-09-20T13:39:20.537006Z",
     "iopub.status.busy": "2024-09-20T13:39:20.536587Z",
     "iopub.status.idle": "2024-09-20T13:39:20.541891Z",
     "shell.execute_reply": "2024-09-20T13:39:20.540648Z"
    },
    "papermill": {
     "duration": 0.016843,
     "end_time": "2024-09-20T13:39:20.544547",
     "exception": false,
     "start_time": "2024-09-20T13:39:20.527704",
     "status": "completed"
    },
    "tags": []
   },
   "outputs": [],
   "source": [
    "#q2.hint()\n",
    "#q2.solution()"
   ]
  },
  {
   "cell_type": "markdown",
   "id": "8763b938",
   "metadata": {
    "papermill": {
     "duration": 0.00679,
     "end_time": "2024-09-20T13:39:20.558638",
     "exception": false,
     "start_time": "2024-09-20T13:39:20.551848",
     "status": "completed"
    },
    "tags": []
   },
   "source": [
    "# 3.\n",
    "\n",
    "Now the researcher wants to supply multiple keywords to search for. Complete the function below to help her.\n",
    "\n",
    "(You're encouraged to use the `word_search` function you just wrote when implementing this function. Reusing code in this way makes your programs more robust and readable - and it saves typing!)"
   ]
  },
  {
   "cell_type": "code",
   "execution_count": 11,
   "id": "547d9c60",
   "metadata": {
    "execution": {
     "iopub.execute_input": "2024-09-20T13:39:20.575572Z",
     "iopub.status.busy": "2024-09-20T13:39:20.574489Z",
     "iopub.status.idle": "2024-09-20T13:39:20.586679Z",
     "shell.execute_reply": "2024-09-20T13:39:20.585491Z"
    },
    "papermill": {
     "duration": 0.02344,
     "end_time": "2024-09-20T13:39:20.589249",
     "exception": false,
     "start_time": "2024-09-20T13:39:20.565809",
     "status": "completed"
    },
    "tags": []
   },
   "outputs": [
    {
     "data": {
      "application/javascript": [
       "parent.postMessage({\"jupyterEvent\": \"custom.exercise_interaction\", \"data\": {\"outcomeType\": 1, \"valueTowardsCompletion\": 0.3333333333333333, \"interactionType\": 1, \"questionType\": 2, \"questionId\": \"3_MultiWordSearch\", \"learnToolsVersion\": \"0.3.4\", \"failureMessage\": \"\", \"exceptionClass\": \"\", \"trace\": \"\"}}, \"*\")"
      ],
      "text/plain": [
       "<IPython.core.display.Javascript object>"
      ]
     },
     "metadata": {},
     "output_type": "display_data"
    },
    {
     "data": {
      "text/markdown": [
       "<span style=\"color:#33cc33\">Correct</span>"
      ],
      "text/plain": [
       "Correct"
      ]
     },
     "metadata": {},
     "output_type": "display_data"
    }
   ],
   "source": [
    "def multi_word_search(doc_list, keywords):\n",
    "    \"\"\"\n",
    "    Takes list of documents (each document is a string) and a list of keywords.  \n",
    "    Returns a dictionary where each key is a keyword, and the value is a list of indices\n",
    "    (from doc_list) of the documents containing that keyword\n",
    "\n",
    "    >>> doc_list = [\"The Learn Python Challenge Casino.\", \"They bought a car and a casino\", \"Casinoville\"]\n",
    "    >>> keywords = ['casino', 'they']\n",
    "    >>> multi_word_search(doc_list, keywords)\n",
    "    {'casino': [0, 1], 'they': [1]}\n",
    "    \"\"\"\n",
    "    keyword_to_indices = {}\n",
    "    for keyword in keywords:\n",
    "        keyword_to_indices[keyword] = word_search(doc_list, keyword)\n",
    "    return keyword_to_indices\n",
    "# Check your answer\n",
    "q3.check()"
   ]
  },
  {
   "cell_type": "code",
   "execution_count": 12,
   "id": "d92f701c",
   "metadata": {
    "execution": {
     "iopub.execute_input": "2024-09-20T13:39:20.606017Z",
     "iopub.status.busy": "2024-09-20T13:39:20.605574Z",
     "iopub.status.idle": "2024-09-20T13:39:20.610800Z",
     "shell.execute_reply": "2024-09-20T13:39:20.609491Z"
    },
    "papermill": {
     "duration": 0.01646,
     "end_time": "2024-09-20T13:39:20.613366",
     "exception": false,
     "start_time": "2024-09-20T13:39:20.596906",
     "status": "completed"
    },
    "tags": []
   },
   "outputs": [],
   "source": [
    "#q3.solution()"
   ]
  },
  {
   "cell_type": "markdown",
   "id": "fa59b519",
   "metadata": {
    "papermill": {
     "duration": 0.007268,
     "end_time": "2024-09-20T13:39:20.628586",
     "exception": false,
     "start_time": "2024-09-20T13:39:20.621318",
     "status": "completed"
    },
    "tags": []
   },
   "source": [
    "# Keep Going\n",
    "\n",
    "You've learned a lot. But even the best programmers rely heavily on \"libraries\" of code from other programmers. You'll learn about that in **[the last lesson](https://www.kaggle.com/colinmorris/working-with-external-libraries)**.\n"
   ]
  },
  {
   "cell_type": "markdown",
   "id": "c683f662",
   "metadata": {
    "papermill": {
     "duration": 0.007807,
     "end_time": "2024-09-20T13:39:20.644571",
     "exception": false,
     "start_time": "2024-09-20T13:39:20.636764",
     "status": "completed"
    },
    "tags": []
   },
   "source": [
    "---\n",
    "\n",
    "\n",
    "\n",
    "\n",
    "*Have questions or comments? Visit the [course discussion forum](https://www.kaggle.com/learn/python/discussion) to chat with other learners.*"
   ]
  }
 ],
 "metadata": {
  "kaggle": {
   "accelerator": "none",
   "dataSources": [],
   "isGpuEnabled": false,
   "isInternetEnabled": false,
   "language": "python",
   "sourceType": "notebook"
  },
  "kernelspec": {
   "display_name": "Python 3",
   "language": "python",
   "name": "python3"
  },
  "language_info": {
   "codemirror_mode": {
    "name": "ipython",
    "version": 3
   },
   "file_extension": ".py",
   "mimetype": "text/x-python",
   "name": "python",
   "nbconvert_exporter": "python",
   "pygments_lexer": "ipython3",
   "version": "3.10.14"
  },
  "learntools_metadata": {
   "lesson_index": 5,
   "type": "exercise"
  },
  "papermill": {
   "default_parameters": {},
   "duration": 4.3641,
   "end_time": "2024-09-20T13:39:21.173964",
   "environment_variables": {},
   "exception": null,
   "input_path": "__notebook__.ipynb",
   "output_path": "__notebook__.ipynb",
   "parameters": {},
   "start_time": "2024-09-20T13:39:16.809864",
   "version": "2.6.0"
  }
 },
 "nbformat": 4,
 "nbformat_minor": 5
}
