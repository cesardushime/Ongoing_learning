{
 "cells": [
  {
   "cell_type": "markdown",
   "id": "cd37945b",
   "metadata": {
    "papermill": {
     "duration": 0.004387,
     "end_time": "2024-10-26T09:36:33.330188",
     "exception": false,
     "start_time": "2024-10-26T09:36:33.325801",
     "status": "completed"
    },
    "tags": []
   },
   "source": [
    "**This notebook is an exercise in the [Introduction to Machine Learning](https://www.kaggle.com/learn/intro-to-machine-learning) course.  You can reference the tutorial at [this link](https://www.kaggle.com/dansbecker/underfitting-and-overfitting).**\n",
    "\n",
    "---\n"
   ]
  },
  {
   "cell_type": "markdown",
   "id": "d505a472",
   "metadata": {
    "papermill": {
     "duration": 0.003845,
     "end_time": "2024-10-26T09:36:33.338320",
     "exception": false,
     "start_time": "2024-10-26T09:36:33.334475",
     "status": "completed"
    },
    "tags": []
   },
   "source": [
    "## Recap\n",
    "You've built your first model, and now it's time to optimize the size of the tree to make better predictions. Run this cell to set up your coding environment where the previous step left off."
   ]
  },
  {
   "cell_type": "code",
   "execution_count": 1,
   "id": "916dfa2f",
   "metadata": {
    "execution": {
     "iopub.execute_input": "2024-10-26T09:36:33.347460Z",
     "iopub.status.busy": "2024-10-26T09:36:33.346900Z",
     "iopub.status.idle": "2024-10-26T09:36:36.545762Z",
     "shell.execute_reply": "2024-10-26T09:36:36.544416Z"
    },
    "papermill": {
     "duration": 3.206438,
     "end_time": "2024-10-26T09:36:36.548243",
     "exception": false,
     "start_time": "2024-10-26T09:36:33.341805",
     "status": "completed"
    },
    "tags": []
   },
   "outputs": [
    {
     "name": "stdout",
     "output_type": "stream",
     "text": [
      "Validation MAE: 29,653\n",
      "\n",
      "Setup complete\n"
     ]
    }
   ],
   "source": [
    "# Code you have previously used to load data\n",
    "import pandas as pd\n",
    "from sklearn.metrics import mean_absolute_error\n",
    "from sklearn.model_selection import train_test_split\n",
    "from sklearn.tree import DecisionTreeRegressor\n",
    "\n",
    "\n",
    "# Path of the file to read\n",
    "iowa_file_path = '../input/home-data-for-ml-course/train.csv'\n",
    "\n",
    "home_data = pd.read_csv(iowa_file_path)\n",
    "# Create target object and call it y\n",
    "y = home_data.SalePrice\n",
    "# Create X\n",
    "features = ['LotArea', 'YearBuilt', '1stFlrSF', '2ndFlrSF', 'FullBath', 'BedroomAbvGr', 'TotRmsAbvGrd']\n",
    "X = home_data[features]\n",
    "\n",
    "# Split into validation and training data\n",
    "train_X, val_X, train_y, val_y = train_test_split(X, y, random_state=1)\n",
    "\n",
    "# Specify Model\n",
    "iowa_model = DecisionTreeRegressor(random_state=1)\n",
    "# Fit Model\n",
    "iowa_model.fit(train_X, train_y)\n",
    "\n",
    "# Make validation predictions and calculate mean absolute error\n",
    "val_predictions = iowa_model.predict(val_X)\n",
    "val_mae = mean_absolute_error(val_predictions, val_y)\n",
    "print(\"Validation MAE: {:,.0f}\".format(val_mae))\n",
    "\n",
    "# Set up code checking\n",
    "from learntools.core import binder\n",
    "binder.bind(globals())\n",
    "from learntools.machine_learning.ex5 import *\n",
    "print(\"\\nSetup complete\")"
   ]
  },
  {
   "cell_type": "markdown",
   "id": "b1628511",
   "metadata": {
    "papermill": {
     "duration": 0.003334,
     "end_time": "2024-10-26T09:36:36.555549",
     "exception": false,
     "start_time": "2024-10-26T09:36:36.552215",
     "status": "completed"
    },
    "tags": []
   },
   "source": [
    "# Exercises\n",
    "You could write the function `get_mae` yourself. For now, we'll supply it. This is the same function you read about in the previous lesson. Just run the cell below."
   ]
  },
  {
   "cell_type": "code",
   "execution_count": 2,
   "id": "252c2343",
   "metadata": {
    "execution": {
     "iopub.execute_input": "2024-10-26T09:36:36.564421Z",
     "iopub.status.busy": "2024-10-26T09:36:36.563976Z",
     "iopub.status.idle": "2024-10-26T09:36:36.570524Z",
     "shell.execute_reply": "2024-10-26T09:36:36.569102Z"
    },
    "papermill": {
     "duration": 0.014333,
     "end_time": "2024-10-26T09:36:36.573424",
     "exception": false,
     "start_time": "2024-10-26T09:36:36.559091",
     "status": "completed"
    },
    "tags": []
   },
   "outputs": [],
   "source": [
    "def get_mae(max_leaf_nodes, train_X, val_X, train_y, val_y):\n",
    "    model = DecisionTreeRegressor(max_leaf_nodes=max_leaf_nodes, random_state=0)\n",
    "    model.fit(train_X, train_y)\n",
    "    preds_val = model.predict(val_X)\n",
    "    mae = mean_absolute_error(val_y, preds_val)\n",
    "    return(mae)"
   ]
  },
  {
   "cell_type": "markdown",
   "id": "21f5f7b8",
   "metadata": {
    "papermill": {
     "duration": 0.004134,
     "end_time": "2024-10-26T09:36:36.581385",
     "exception": false,
     "start_time": "2024-10-26T09:36:36.577251",
     "status": "completed"
    },
    "tags": []
   },
   "source": [
    "## Step 1: Compare Different Tree Sizes\n",
    "Write a loop that tries the following values for *max_leaf_nodes* from a set of possible values.\n",
    "\n",
    "Call the *get_mae* function on each value of max_leaf_nodes. Store the output in some way that allows you to select the value of `max_leaf_nodes` that gives the most accurate model on your data."
   ]
  },
  {
   "cell_type": "code",
   "execution_count": 3,
   "id": "76d3ac76",
   "metadata": {
    "execution": {
     "iopub.execute_input": "2024-10-26T09:36:36.591351Z",
     "iopub.status.busy": "2024-10-26T09:36:36.590693Z",
     "iopub.status.idle": "2024-10-26T09:36:36.643918Z",
     "shell.execute_reply": "2024-10-26T09:36:36.642529Z"
    },
    "papermill": {
     "duration": 0.061287,
     "end_time": "2024-10-26T09:36:36.646632",
     "exception": false,
     "start_time": "2024-10-26T09:36:36.585345",
     "status": "completed"
    },
    "tags": []
   },
   "outputs": [
    {
     "data": {
      "application/javascript": [
       "parent.postMessage({\"jupyterEvent\": \"custom.exercise_interaction\", \"data\": {\"outcomeType\": 1, \"valueTowardsCompletion\": 0.5, \"interactionType\": 1, \"questionType\": 1, \"questionId\": \"1_BestTreeSize\", \"learnToolsVersion\": \"0.3.4\", \"failureMessage\": \"\", \"exceptionClass\": \"\", \"trace\": \"\"}}, \"*\")"
      ],
      "text/plain": [
       "<IPython.core.display.Javascript object>"
      ]
     },
     "metadata": {},
     "output_type": "display_data"
    },
    {
     "data": {
      "text/markdown": [
       "<span style=\"color:#33cc33\">Correct</span>"
      ],
      "text/plain": [
       "Correct"
      ]
     },
     "metadata": {},
     "output_type": "display_data"
    }
   ],
   "source": [
    "candidate_max_leaf_nodes = [5, 25, 50, 100, 250, 500]\n",
    "# Write loop to find the ideal tree size from candidate_max_leaf_nodes\n",
    "#for max_leaf_nodes in candidate_max_leaf_nodes:\n",
    " #   mae = get_mae(max_leaf_nodes, train_X, val_X, train_y, val_y)\n",
    "  #  print(f\"For {max_leaf_nodes}: {mae}\")\n",
    "    \n",
    "# Store the best value of max_leaf_nodes (it will be either 5, 25, 50, 100, 250 or 500)\n",
    "\n",
    "rating = {max_leaf_nodes: get_mae(max_leaf_nodes, train_X, val_X, train_y, val_y) for max_leaf_nodes in candidate_max_leaf_nodes}\n",
    "\n",
    "best_tree_size = min(rating, key=rating.get)\n",
    "\n",
    "# Check your answer\n",
    "step_1.check()"
   ]
  },
  {
   "cell_type": "code",
   "execution_count": 4,
   "id": "11756a16",
   "metadata": {
    "execution": {
     "iopub.execute_input": "2024-10-26T09:36:36.656618Z",
     "iopub.status.busy": "2024-10-26T09:36:36.656164Z",
     "iopub.status.idle": "2024-10-26T09:36:36.661315Z",
     "shell.execute_reply": "2024-10-26T09:36:36.660100Z"
    },
    "papermill": {
     "duration": 0.013575,
     "end_time": "2024-10-26T09:36:36.664258",
     "exception": false,
     "start_time": "2024-10-26T09:36:36.650683",
     "status": "completed"
    },
    "tags": []
   },
   "outputs": [],
   "source": [
    "# The lines below will show you a hint or the solution.\n",
    "#step_1.hint() \n",
    "#step_1.solution()"
   ]
  },
  {
   "cell_type": "markdown",
   "id": "a63462cd",
   "metadata": {
    "papermill": {
     "duration": 0.003812,
     "end_time": "2024-10-26T09:36:36.672483",
     "exception": false,
     "start_time": "2024-10-26T09:36:36.668671",
     "status": "completed"
    },
    "tags": []
   },
   "source": [
    "## Step 2: Fit Model Using All Data\n",
    "You know the best tree size. If you were going to deploy this model in practice, you would make it even more accurate by using all of the data and keeping that tree size.  That is, you don't need to hold out the validation data now that you've made all your modeling decisions."
   ]
  },
  {
   "cell_type": "code",
   "execution_count": 5,
   "id": "fa237cc6",
   "metadata": {
    "execution": {
     "iopub.execute_input": "2024-10-26T09:36:36.682185Z",
     "iopub.status.busy": "2024-10-26T09:36:36.681705Z",
     "iopub.status.idle": "2024-10-26T09:36:36.700477Z",
     "shell.execute_reply": "2024-10-26T09:36:36.699344Z"
    },
    "papermill": {
     "duration": 0.026548,
     "end_time": "2024-10-26T09:36:36.702928",
     "exception": false,
     "start_time": "2024-10-26T09:36:36.676380",
     "status": "completed"
    },
    "tags": []
   },
   "outputs": [
    {
     "data": {
      "application/javascript": [
       "parent.postMessage({\"jupyterEvent\": \"custom.exercise_interaction\", \"data\": {\"outcomeType\": 1, \"valueTowardsCompletion\": 0.5, \"interactionType\": 1, \"questionType\": 2, \"questionId\": \"2_FitModelWithAllData\", \"learnToolsVersion\": \"0.3.4\", \"failureMessage\": \"\", \"exceptionClass\": \"\", \"trace\": \"\"}}, \"*\")"
      ],
      "text/plain": [
       "<IPython.core.display.Javascript object>"
      ]
     },
     "metadata": {},
     "output_type": "display_data"
    },
    {
     "data": {
      "text/markdown": [
       "<span style=\"color:#33cc33\">Correct</span>"
      ],
      "text/plain": [
       "Correct"
      ]
     },
     "metadata": {},
     "output_type": "display_data"
    }
   ],
   "source": [
    "# Fill in argument to make optimal size and uncomment\n",
    "final_model = DecisionTreeRegressor(max_leaf_nodes = 100, random_state=0)\n",
    "\n",
    "# fit the final model and uncomment the next two lines\n",
    "final_model.fit(X, y)\n",
    "\n",
    "# Check your answer\n",
    "step_2.check()"
   ]
  },
  {
   "cell_type": "code",
   "execution_count": 6,
   "id": "2c7afae9",
   "metadata": {
    "execution": {
     "iopub.execute_input": "2024-10-26T09:36:36.714289Z",
     "iopub.status.busy": "2024-10-26T09:36:36.713831Z",
     "iopub.status.idle": "2024-10-26T09:36:36.718974Z",
     "shell.execute_reply": "2024-10-26T09:36:36.717517Z"
    },
    "papermill": {
     "duration": 0.014229,
     "end_time": "2024-10-26T09:36:36.721312",
     "exception": false,
     "start_time": "2024-10-26T09:36:36.707083",
     "status": "completed"
    },
    "tags": []
   },
   "outputs": [],
   "source": [
    "# step_2.hint()\n",
    "# step_2.solution()"
   ]
  },
  {
   "cell_type": "markdown",
   "id": "19a08911",
   "metadata": {
    "papermill": {
     "duration": 0.004529,
     "end_time": "2024-10-26T09:36:36.730084",
     "exception": false,
     "start_time": "2024-10-26T09:36:36.725555",
     "status": "completed"
    },
    "tags": []
   },
   "source": [
    "You've tuned this model and improved your results. But we are still using Decision Tree models, which are not very sophisticated by modern machine learning standards. In the next step you will learn to use Random Forests to improve your models even more.\n",
    "\n",
    "# Keep Going\n",
    "\n",
    "You are ready for **[Random Forests](https://www.kaggle.com/dansbecker/random-forests).**\n"
   ]
  },
  {
   "cell_type": "markdown",
   "id": "a57cf015",
   "metadata": {
    "papermill": {
     "duration": 0.004133,
     "end_time": "2024-10-26T09:36:36.738813",
     "exception": false,
     "start_time": "2024-10-26T09:36:36.734680",
     "status": "completed"
    },
    "tags": []
   },
   "source": [
    "---\n",
    "\n",
    "\n",
    "\n",
    "\n",
    "*Have questions or comments? Visit the [course discussion forum](https://www.kaggle.com/learn/intro-to-machine-learning/discussion) to chat with other learners.*"
   ]
  }
 ],
 "metadata": {
  "kaggle": {
   "accelerator": "none",
   "dataSources": [
    {
     "databundleVersionId": 111096,
     "sourceId": 10211,
     "sourceType": "competition"
    },
    {
     "datasetId": 11167,
     "sourceId": 15520,
     "sourceType": "datasetVersion"
    },
    {
     "datasetId": 2709,
     "sourceId": 38454,
     "sourceType": "datasetVersion"
    }
   ],
   "isGpuEnabled": false,
   "isInternetEnabled": false,
   "language": "python",
   "sourceType": "notebook"
  },
  "kernelspec": {
   "display_name": "Python 3",
   "language": "python",
   "name": "python3"
  },
  "language_info": {
   "codemirror_mode": {
    "name": "ipython",
    "version": 3
   },
   "file_extension": ".py",
   "mimetype": "text/x-python",
   "name": "python",
   "nbconvert_exporter": "python",
   "pygments_lexer": "ipython3",
   "version": "3.10.14"
  },
  "papermill": {
   "default_parameters": {},
   "duration": 7.141855,
   "end_time": "2024-10-26T09:36:37.366852",
   "environment_variables": {},
   "exception": null,
   "input_path": "__notebook__.ipynb",
   "output_path": "__notebook__.ipynb",
   "parameters": {},
   "start_time": "2024-10-26T09:36:30.224997",
   "version": "2.6.0"
  }
 },
 "nbformat": 4,
 "nbformat_minor": 5
}
